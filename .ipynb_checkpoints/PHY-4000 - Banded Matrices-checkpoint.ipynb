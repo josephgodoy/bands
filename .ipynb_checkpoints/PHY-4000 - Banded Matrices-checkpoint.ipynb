{
 "cells": [
  {
   "cell_type": "code",
   "execution_count": 156,
   "metadata": {},
   "outputs": [
    {
     "name": "stdout",
     "output_type": "stream",
     "text": [
      "[ 8.59444047  0.02573323 -5.01052723 -3.60964647] \n",
      "\n",
      " [[-0.55966626 -0.87112433  0.6788182  -0.2585983 ]\n",
      " [-0.5991455  -0.06479212 -0.611815    0.83513184]\n",
      " [-0.48268727  0.04735033 -0.19079541 -0.48141578]\n",
      " [-0.3079145   0.48446087  0.35844855 -0.06261453]] \n",
      "\n",
      "[[0 4 5 0]\n",
      " [3 0 4 5]\n",
      " [2 3 0 4]\n",
      " [0 2 3 0]]\n",
      "[[-0.55966626 -0.5991455  -0.48268727 -0.3079145 ]\n",
      " [-0.87112433 -0.06479212  0.04735033  0.48446087]\n",
      " [ 0.6788182  -0.611815   -0.19079541  0.35844855]\n",
      " [-0.2585983   0.83513184 -0.48141578 -0.06261453]]\n",
      "[[ 8.59444047  0.          0.          0.        ]\n",
      " [ 0.          0.02573323  0.          0.        ]\n",
      " [ 0.          0.         -5.01052723  0.        ]\n",
      " [ 0.          0.          0.         -3.60964647]]\n",
      "[[-0.33358069 -0.5698285   0.49777207  0.08113767]\n",
      " [-0.52292163 -0.055694   -0.2649547   0.62383212]\n",
      " [-0.64908723  0.07620924 -0.84961821 -1.08218734]\n",
      " [-0.6063172   1.02462654  0.94266454  0.33509896]]\n",
      "[[-0.63113617  4.0648916  -3.39728818 -2.64473126]\n",
      " [ 3.71261507  2.45642142 -5.17318729 -0.93775316]\n",
      " [-1.77391861 -4.57641953  0.8762943  -1.0045902 ]\n",
      " [-0.9725836   1.68066154 -2.94834264 -2.70157954]]\n"
     ]
    }
   ],
   "source": [
    "# Thankfully, someone wrote code to do this so I don't have to.\n",
    "# Scipy's Toeplitz function generates a banded matrix.\n",
    "# The first list argument to linalg.toeplitz defines the bands\n",
    "# starting with the diagonal and moving downwards. \n",
    "# The second list argument defines the bands starting with\n",
    "# the band above the diagonal and moving upwards.\n",
    "# Important note: The first entry in the second list is ignored.\n",
    "\n",
    "from scipy.linalg import toeplitz\n",
    "from numpy import linalg as lin\n",
    "import scipy as sp\n",
    "import numpy as np\n",
    "\n",
    "def solve(a):\n",
    "    eigenvalues, eigenvectors = lin.eig(a)\n",
    "    return lin.eig(a)\n",
    "'''\n",
    "a = toeplitz([0,1,2,3,4], [-99,5,6,7,8])\n",
    "w, v = lin.eig(a) # Eigenvalues, eigenvectors. For some reason, they use j, not i.\n",
    "print(a, \"\\n\")\n",
    "print(w, v, \"\\n\")\n",
    "print(\"The complex square of\", w[1], \"is\", np.abs(w[1]), \".\")\n",
    "'''\n",
    "# To generalize to n dimensions:\n",
    "\n",
    "def fourBands(size, a, b, c, d):\n",
    "    \n",
    "    # Main diagonal and unused elements set to 0.\n",
    "    row_one, row_two = [0],[0]\n",
    "\n",
    "    # Diagonals are filled from the bottom up;\n",
    "    # The first argument represents the lowest band,\n",
    "    # The last argument represents the highest band.\n",
    "    row_one.append(b) \n",
    "    row_one.append(a) \n",
    "    row_two.append(c) \n",
    "    row_two.append(d) \n",
    "    \n",
    "    # The rest of the diagonals are filled with zeroes.\n",
    "    for i in range(size-3): \n",
    "        row_one.append(0)\n",
    "        row_two.append(0)\n",
    "        \n",
    "    # The matrix is generated and returned.\n",
    "    return toeplitz(row_one, row_two)\n",
    "\n",
    "b = fourBands(4,2,3,4,5)\n",
    "w, v = lin.eig(b)\n",
    "print(w,'\\n\\n',v,'\\n')\n",
    "print(b)\n",
    "p = np.transpose(np.asmatrix(v))\n",
    "p_inverse = np.linalg.inv(p)\n",
    "d = toeplitz(np.zeros(len(b)),np.zeros(len(b)))\n",
    "for i in range(0,len(w),1):\n",
    "    d[i][i] = w[i]\n",
    "    \n",
    "print(p)\n",
    "print(d)\n",
    "print(p_inverse)\n",
    "diagonalized = np.matmul(np.matmul(p,d), p_inverse)\n",
    "print(diagonalized)"
   ]
  },
  {
   "cell_type": "code",
   "execution_count": null,
   "metadata": {},
   "outputs": [],
   "source": []
  },
  {
   "cell_type": "code",
   "execution_count": null,
   "metadata": {},
   "outputs": [],
   "source": []
  },
  {
   "cell_type": "code",
   "execution_count": null,
   "metadata": {},
   "outputs": [],
   "source": []
  },
  {
   "cell_type": "code",
   "execution_count": null,
   "metadata": {},
   "outputs": [],
   "source": []
  }
 ],
 "metadata": {
  "kernelspec": {
   "display_name": "Python [conda env:Anaconda]",
   "language": "python",
   "name": "conda-env-Anaconda-py"
  },
  "language_info": {
   "codemirror_mode": {
    "name": "ipython",
    "version": 3
   },
   "file_extension": ".py",
   "mimetype": "text/x-python",
   "name": "python",
   "nbconvert_exporter": "python",
   "pygments_lexer": "ipython3",
   "version": "3.5.5"
  }
 },
 "nbformat": 4,
 "nbformat_minor": 2
}
